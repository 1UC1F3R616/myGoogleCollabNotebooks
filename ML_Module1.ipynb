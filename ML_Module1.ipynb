{
  "nbformat": 4,
  "nbformat_minor": 0,
  "metadata": {
    "colab": {
      "name": "ML_Module1.ipynb",
      "provenance": [],
      "authorship_tag": "ABX9TyO0PZ5N8GBxJB0Ny3vIzur+",
      "include_colab_link": true
    },
    "kernelspec": {
      "name": "python3",
      "display_name": "Python 3"
    }
  },
  "cells": [
    {
      "cell_type": "markdown",
      "metadata": {
        "id": "view-in-github",
        "colab_type": "text"
      },
      "source": [
        "<a href=\"https://colab.research.google.com/github/1UC1F3R616/myGoogleCollabNotebooks/blob/master/ML_Module1.ipynb\" target=\"_parent\"><img src=\"https://colab.research.google.com/assets/colab-badge.svg\" alt=\"Open In Colab\"/></a>"
      ]
    },
    {
      "cell_type": "code",
      "metadata": {
        "id": "Be5OXI59EG2d",
        "colab_type": "code",
        "outputId": "0bd85e81-e935-4680-8900-88324f08e095",
        "colab": {
          "base_uri": "https://localhost:8080/",
          "height": 144
        }
      },
      "source": [
        "from numpy import loadtxt\n",
        "from urllib.request import urlopen\n",
        "url = 'https://raw.githubusercontent.com/jbrownlee/Datasets/master/pima-indians-diabetes.data.csv'\n",
        "raw_data = urlopen(url)\n",
        "dataset = loadtxt(raw_data, delimiter=',')\n",
        "display(dataset)"
      ],
      "execution_count": 0,
      "outputs": [
        {
          "output_type": "display_data",
          "data": {
            "text/plain": [
              "array([[  6.   , 148.   ,  72.   , ...,   0.627,  50.   ,   1.   ],\n",
              "       [  1.   ,  85.   ,  66.   , ...,   0.351,  31.   ,   0.   ],\n",
              "       [  8.   , 183.   ,  64.   , ...,   0.672,  32.   ,   1.   ],\n",
              "       ...,\n",
              "       [  5.   , 121.   ,  72.   , ...,   0.245,  30.   ,   0.   ],\n",
              "       [  1.   , 126.   ,  60.   , ...,   0.349,  47.   ,   1.   ],\n",
              "       [  1.   ,  93.   ,  70.   , ...,   0.315,  23.   ,   0.   ]])"
            ]
          },
          "metadata": {
            "tags": []
          }
        }
      ]
    },
    {
      "cell_type": "code",
      "metadata": {
        "id": "dQw1dUuQEpn-",
        "colab_type": "code",
        "outputId": "7a27b4ff-6c05-4dd5-e3e6-079dd5d1adfd",
        "colab": {
          "base_uri": "https://localhost:8080/",
          "height": 270
        }
      },
      "source": [
        "import pandas as pd\n",
        "data = {'Name': ['John', 'Anna', 'Peter', 'Linda'],\n",
        "        'Location': ['New York', 'Paris', 'Berlin', 'London'],\n",
        "        'Age': [24, 13, 53, 33]}\n",
        "data_pandas = pd.DataFrame(data)\n",
        "display(data_pandas)\n",
        "display(data_pandas[data_pandas.Age > 30])"
      ],
      "execution_count": 0,
      "outputs": [
        {
          "output_type": "display_data",
          "data": {
            "text/html": [
              "<div>\n",
              "<style scoped>\n",
              "    .dataframe tbody tr th:only-of-type {\n",
              "        vertical-align: middle;\n",
              "    }\n",
              "\n",
              "    .dataframe tbody tr th {\n",
              "        vertical-align: top;\n",
              "    }\n",
              "\n",
              "    .dataframe thead th {\n",
              "        text-align: right;\n",
              "    }\n",
              "</style>\n",
              "<table border=\"1\" class=\"dataframe\">\n",
              "  <thead>\n",
              "    <tr style=\"text-align: right;\">\n",
              "      <th></th>\n",
              "      <th>Name</th>\n",
              "      <th>Location</th>\n",
              "      <th>Age</th>\n",
              "    </tr>\n",
              "  </thead>\n",
              "  <tbody>\n",
              "    <tr>\n",
              "      <th>0</th>\n",
              "      <td>John</td>\n",
              "      <td>New York</td>\n",
              "      <td>24</td>\n",
              "    </tr>\n",
              "    <tr>\n",
              "      <th>1</th>\n",
              "      <td>Anna</td>\n",
              "      <td>Paris</td>\n",
              "      <td>13</td>\n",
              "    </tr>\n",
              "    <tr>\n",
              "      <th>2</th>\n",
              "      <td>Peter</td>\n",
              "      <td>Berlin</td>\n",
              "      <td>53</td>\n",
              "    </tr>\n",
              "    <tr>\n",
              "      <th>3</th>\n",
              "      <td>Linda</td>\n",
              "      <td>London</td>\n",
              "      <td>33</td>\n",
              "    </tr>\n",
              "  </tbody>\n",
              "</table>\n",
              "</div>"
            ],
            "text/plain": [
              "    Name  Location  Age\n",
              "0   John  New York   24\n",
              "1   Anna     Paris   13\n",
              "2  Peter    Berlin   53\n",
              "3  Linda    London   33"
            ]
          },
          "metadata": {
            "tags": []
          }
        },
        {
          "output_type": "display_data",
          "data": {
            "text/html": [
              "<div>\n",
              "<style scoped>\n",
              "    .dataframe tbody tr th:only-of-type {\n",
              "        vertical-align: middle;\n",
              "    }\n",
              "\n",
              "    .dataframe tbody tr th {\n",
              "        vertical-align: top;\n",
              "    }\n",
              "\n",
              "    .dataframe thead th {\n",
              "        text-align: right;\n",
              "    }\n",
              "</style>\n",
              "<table border=\"1\" class=\"dataframe\">\n",
              "  <thead>\n",
              "    <tr style=\"text-align: right;\">\n",
              "      <th></th>\n",
              "      <th>Name</th>\n",
              "      <th>Location</th>\n",
              "      <th>Age</th>\n",
              "    </tr>\n",
              "  </thead>\n",
              "  <tbody>\n",
              "    <tr>\n",
              "      <th>2</th>\n",
              "      <td>Peter</td>\n",
              "      <td>Berlin</td>\n",
              "      <td>53</td>\n",
              "    </tr>\n",
              "    <tr>\n",
              "      <th>3</th>\n",
              "      <td>Linda</td>\n",
              "      <td>London</td>\n",
              "      <td>33</td>\n",
              "    </tr>\n",
              "  </tbody>\n",
              "</table>\n",
              "</div>"
            ],
            "text/plain": [
              "    Name Location  Age\n",
              "2  Peter   Berlin   53\n",
              "3  Linda   London   33"
            ]
          },
          "metadata": {
            "tags": []
          }
        }
      ]
    },
    {
      "cell_type": "code",
      "metadata": {
        "id": "Tb4GawmxFOCp",
        "colab_type": "code",
        "outputId": "35ebf0a5-1a4d-4f8e-9cd7-bf8c60a8ecef",
        "colab": {
          "base_uri": "https://localhost:8080/",
          "height": 35
        }
      },
      "source": [
        "from sklearn.datasets import load_breast_cancer\n",
        "data = load_breast_cancer()\n",
        "data.keys()\n",
        "list(data.target_names) # What Feature we are Finding/ Targeting"
      ],
      "execution_count": 0,
      "outputs": [
        {
          "output_type": "execute_result",
          "data": {
            "text/plain": [
              "['malignant', 'benign']"
            ]
          },
          "metadata": {
            "tags": []
          },
          "execution_count": 7
        }
      ]
    },
    {
      "cell_type": "code",
      "metadata": {
        "id": "TcmSfdm_Fww0",
        "colab_type": "code",
        "outputId": "091b5fd9-6f54-4db7-e0d8-5d1e012d4510",
        "colab": {
          "base_uri": "https://localhost:8080/",
          "height": 562
        }
      },
      "source": [
        "list(data.feature_names)"
      ],
      "execution_count": 0,
      "outputs": [
        {
          "output_type": "execute_result",
          "data": {
            "text/plain": [
              "['mean radius',\n",
              " 'mean texture',\n",
              " 'mean perimeter',\n",
              " 'mean area',\n",
              " 'mean smoothness',\n",
              " 'mean compactness',\n",
              " 'mean concavity',\n",
              " 'mean concave points',\n",
              " 'mean symmetry',\n",
              " 'mean fractal dimension',\n",
              " 'radius error',\n",
              " 'texture error',\n",
              " 'perimeter error',\n",
              " 'area error',\n",
              " 'smoothness error',\n",
              " 'compactness error',\n",
              " 'concavity error',\n",
              " 'concave points error',\n",
              " 'symmetry error',\n",
              " 'fractal dimension error',\n",
              " 'worst radius',\n",
              " 'worst texture',\n",
              " 'worst perimeter',\n",
              " 'worst area',\n",
              " 'worst smoothness',\n",
              " 'worst compactness',\n",
              " 'worst concavity',\n",
              " 'worst concave points',\n",
              " 'worst symmetry',\n",
              " 'worst fractal dimension']"
            ]
          },
          "metadata": {
            "tags": []
          },
          "execution_count": 9
        }
      ]
    },
    {
      "cell_type": "code",
      "metadata": {
        "id": "0DSCzEjfF-D5",
        "colab_type": "code",
        "outputId": "81d7de6d-d363-4304-a6fb-e935bc69acb8",
        "colab": {
          "resources": {
            "http://localhost:8080/nbextensions/google.colab/files.js": {
              "data": "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",
              "ok": true,
              "headers": [
                [
                  "content-type",
                  "application/javascript"
                ]
              ],
              "status": 200,
              "status_text": "OK"
            }
          },
          "base_uri": "https://localhost:8080/",
          "height": 75
        }
      },
      "source": [
        "from google.colab import files\n",
        "uploaded = files.upload()"
      ],
      "execution_count": 0,
      "outputs": [
        {
          "output_type": "display_data",
          "data": {
            "text/html": [
              "\n",
              "     <input type=\"file\" id=\"files-c369763c-5b33-4432-a84e-cea42ff36841\" name=\"files[]\" multiple disabled />\n",
              "     <output id=\"result-c369763c-5b33-4432-a84e-cea42ff36841\">\n",
              "      Upload widget is only available when the cell has been executed in the\n",
              "      current browser session. Please rerun this cell to enable.\n",
              "      </output>\n",
              "      <script src=\"/nbextensions/google.colab/files.js\"></script> "
            ],
            "text/plain": [
              "<IPython.core.display.HTML object>"
            ]
          },
          "metadata": {
            "tags": []
          }
        },
        {
          "output_type": "stream",
          "text": [
            "Saving iphone-11.csv to iphone-11.csv\n"
          ],
          "name": "stdout"
        }
      ]
    },
    {
      "cell_type": "code",
      "metadata": {
        "id": "4kIgYKgMI1RY",
        "colab_type": "code",
        "outputId": "49e82501-2a4a-4f04-97b6-3e15576591f3",
        "colab": {
          "base_uri": "https://localhost:8080/",
          "height": 1000
        }
      },
      "source": [
        "import io\n",
        "df = pd.read_csv(io.BytesIO(uploaded['iphone-11.csv']))\n",
        "display(df)"
      ],
      "execution_count": 0,
      "outputs": [
        {
          "output_type": "display_data",
          "data": {
            "text/html": [
              "<div>\n",
              "<style scoped>\n",
              "    .dataframe tbody tr th:only-of-type {\n",
              "        vertical-align: middle;\n",
              "    }\n",
              "\n",
              "    .dataframe tbody tr th {\n",
              "        vertical-align: top;\n",
              "    }\n",
              "\n",
              "    .dataframe thead th {\n",
              "        text-align: right;\n",
              "    }\n",
              "</style>\n",
              "<table border=\"1\" class=\"dataframe\">\n",
              "  <thead>\n",
              "    <tr style=\"text-align: right;\">\n",
              "      <th></th>\n",
              "      <th>SN</th>\n",
              "      <th>Name</th>\n",
              "      <th>Link to item</th>\n",
              "      <th>Rating</th>\n",
              "      <th>Reviews</th>\n",
              "      <th>Image Download link 1x</th>\n",
              "      <th>Image Download link 1.5x</th>\n",
              "      <th>Image Download link 2x</th>\n",
              "      <th>Image Download link 2.5x</th>\n",
              "      <th>Image Download link 3x</th>\n",
              "      <th>Price</th>\n",
              "    </tr>\n",
              "  </thead>\n",
              "  <tbody>\n",
              "    <tr>\n",
              "      <th>0</th>\n",
              "      <td>1</td>\n",
              "      <td>We are delivering existing pre-paid orders of ...</td>\n",
              "      <td>https://www.amazon.in/b/ref=sxts_snps_0_0_75bd...</td>\n",
              "      <td>-</td>\n",
              "      <td>-</td>\n",
              "      <td>-</td>\n",
              "      <td>-</td>\n",
              "      <td>-</td>\n",
              "      <td>-</td>\n",
              "      <td>-</td>\n",
              "      <td>-</td>\n",
              "    </tr>\n",
              "    <tr>\n",
              "      <th>1</th>\n",
              "      <td>2</td>\n",
              "      <td>Apple iPhone Xs Max (64GB) - Space Grey</td>\n",
              "      <td>https://www.amazon.in/gp/slredirect/picassoRed...</td>\n",
              "      <td>4.4 out of 5 stars</td>\n",
              "      <td>Sponsored</td>\n",
              "      <td>https://m.media-amazon.com/images/I/51ZdmjN52-...</td>\n",
              "      <td>https://m.media-amazon.com/images/I/51ZdmjN52-...</td>\n",
              "      <td>https://m.media-amazon.com/images/I/51ZdmjN52-...</td>\n",
              "      <td>https://m.media-amazon.com/images/I/51ZdmjN52-...</td>\n",
              "      <td>https://m.media-amazon.com/images/I/51ZdmjN52-...</td>\n",
              "      <td>70,499</td>\n",
              "    </tr>\n",
              "    <tr>\n",
              "      <th>2</th>\n",
              "      <td>3</td>\n",
              "      <td>Apple iPhone 8 Plus (256GB) - Gold</td>\n",
              "      <td>https://www.amazon.in/gp/slredirect/picassoRed...</td>\n",
              "      <td>4.5 out of 5 stars</td>\n",
              "      <td>Sponsored</td>\n",
              "      <td>https://m.media-amazon.com/images/I/51WMaE0DPi...</td>\n",
              "      <td>https://m.media-amazon.com/images/I/51WMaE0DPi...</td>\n",
              "      <td>https://m.media-amazon.com/images/I/51WMaE0DPi...</td>\n",
              "      <td>https://m.media-amazon.com/images/I/51WMaE0DPi...</td>\n",
              "      <td>https://m.media-amazon.com/images/I/51WMaE0DPi...</td>\n",
              "      <td>47,499</td>\n",
              "    </tr>\n",
              "    <tr>\n",
              "      <th>3</th>\n",
              "      <td>4</td>\n",
              "      <td>Apple iPhone 6s (32GB) - Space Grey</td>\n",
              "      <td>https://www.amazon.in/Apple-iPhone-6S-Space-St...</td>\n",
              "      <td>4.1 out of 5 stars</td>\n",
              "      <td>6915</td>\n",
              "      <td>https://m.media-amazon.com/images/I/516jNlSnB-...</td>\n",
              "      <td>https://m.media-amazon.com/images/I/516jNlSnB-...</td>\n",
              "      <td>https://m.media-amazon.com/images/I/516jNlSnB-...</td>\n",
              "      <td>https://m.media-amazon.com/images/I/516jNlSnB-...</td>\n",
              "      <td>https://m.media-amazon.com/images/I/516jNlSnB-...</td>\n",
              "      <td>25,499</td>\n",
              "    </tr>\n",
              "    <tr>\n",
              "      <th>4</th>\n",
              "      <td>5</td>\n",
              "      <td>Nillkin Case for Apple iPhone 11 Pro Max (6.5\"...</td>\n",
              "      <td>https://www.amazon.in/Nillkin-Apple-iPhone-Sup...</td>\n",
              "      <td>-</td>\n",
              "      <td>-</td>\n",
              "      <td>https://m.media-amazon.com/images/I/41NBfDUYwk...</td>\n",
              "      <td>https://m.media-amazon.com/images/I/41NBfDUYwk...</td>\n",
              "      <td>https://m.media-amazon.com/images/I/41NBfDUYwk...</td>\n",
              "      <td>https://m.media-amazon.com/images/I/41NBfDUYwk...</td>\n",
              "      <td>https://m.media-amazon.com/images/I/41NBfDUYwk...</td>\n",
              "      <td>660</td>\n",
              "    </tr>\n",
              "    <tr>\n",
              "      <th>5</th>\n",
              "      <td>6</td>\n",
              "      <td>Apple iPhone Xs (512GB) - Silver</td>\n",
              "      <td>https://www.amazon.in/Apple-iPhone-Xs-512GB-Si...</td>\n",
              "      <td>4.3 out of 5 stars</td>\n",
              "      <td>331</td>\n",
              "      <td>https://m.media-amazon.com/images/I/51Gggt-m0L...</td>\n",
              "      <td>https://m.media-amazon.com/images/I/51Gggt-m0L...</td>\n",
              "      <td>https://m.media-amazon.com/images/I/51Gggt-m0L...</td>\n",
              "      <td>https://m.media-amazon.com/images/I/51Gggt-m0L...</td>\n",
              "      <td>https://m.media-amazon.com/images/I/51Gggt-m0L...</td>\n",
              "      <td>78,900</td>\n",
              "    </tr>\n",
              "    <tr>\n",
              "      <th>6</th>\n",
              "      <td>7</td>\n",
              "      <td>Nillkin Case for Apple iPhone 11 Pro Max (6.5\"...</td>\n",
              "      <td>https://www.amazon.in/Nillkin-Apple-iPhone-Nat...</td>\n",
              "      <td>-</td>\n",
              "      <td>-</td>\n",
              "      <td>https://m.media-amazon.com/images/I/317CqACyej...</td>\n",
              "      <td>https://m.media-amazon.com/images/I/317CqACyej...</td>\n",
              "      <td>https://m.media-amazon.com/images/I/317CqACyej...</td>\n",
              "      <td>https://m.media-amazon.com/images/I/317CqACyej...</td>\n",
              "      <td>https://m.media-amazon.com/images/I/317CqACyej...</td>\n",
              "      <td>999</td>\n",
              "    </tr>\n",
              "    <tr>\n",
              "      <th>7</th>\n",
              "      <td>8</td>\n",
              "      <td>Apple iPhone 11 Pro (64GB) - Silver</td>\n",
              "      <td>https://www.amazon.in/Apple-iPhone-11-Pro-64GB...</td>\n",
              "      <td>4.5 out of 5 stars</td>\n",
              "      <td>378</td>\n",
              "      <td>https://m.media-amazon.com/images/I/61VK5q8L-o...</td>\n",
              "      <td>https://m.media-amazon.com/images/I/61VK5q8L-o...</td>\n",
              "      <td>https://m.media-amazon.com/images/I/61VK5q8L-o...</td>\n",
              "      <td>https://m.media-amazon.com/images/I/61VK5q8L-o...</td>\n",
              "      <td>https://m.media-amazon.com/images/I/61VK5q8L-o...</td>\n",
              "      <td>-</td>\n",
              "    </tr>\n",
              "    <tr>\n",
              "      <th>8</th>\n",
              "      <td>9</td>\n",
              "      <td>Camsols Santa Barbara Polo and Racquet Club El...</td>\n",
              "      <td>https://www.amazon.in/Camsols-Barbara-Racquet-...</td>\n",
              "      <td>5.0 out of 5 stars</td>\n",
              "      <td>3</td>\n",
              "      <td>https://m.media-amazon.com/images/I/41oY2NLJ4l...</td>\n",
              "      <td>https://m.media-amazon.com/images/I/41oY2NLJ4l...</td>\n",
              "      <td>https://m.media-amazon.com/images/I/41oY2NLJ4l...</td>\n",
              "      <td>https://m.media-amazon.com/images/I/41oY2NLJ4l...</td>\n",
              "      <td>https://m.media-amazon.com/images/I/41oY2NLJ4l...</td>\n",
              "      <td>-</td>\n",
              "    </tr>\n",
              "    <tr>\n",
              "      <th>9</th>\n",
              "      <td>10</td>\n",
              "      <td>Apple iPhone Xs Max (64GB) - Space Grey</td>\n",
              "      <td>https://www.amazon.in/Apple-iPhone-Xs-Max-64GB...</td>\n",
              "      <td>4.4 out of 5 stars</td>\n",
              "      <td>290</td>\n",
              "      <td>https://m.media-amazon.com/images/I/51ZdmjN52-...</td>\n",
              "      <td>https://m.media-amazon.com/images/I/51ZdmjN52-...</td>\n",
              "      <td>https://m.media-amazon.com/images/I/51ZdmjN52-...</td>\n",
              "      <td>https://m.media-amazon.com/images/I/51ZdmjN52-...</td>\n",
              "      <td>https://m.media-amazon.com/images/I/51ZdmjN52-...</td>\n",
              "      <td>70,499</td>\n",
              "    </tr>\n",
              "    <tr>\n",
              "      <th>10</th>\n",
              "      <td>11</td>\n",
              "      <td>Apple iPhone Xs Max (64GB) - Gold</td>\n",
              "      <td>https://www.amazon.in/Apple-iPhone-Xs-Max-64GB...</td>\n",
              "      <td>4.4 out of 5 stars</td>\n",
              "      <td>290</td>\n",
              "      <td>https://m.media-amazon.com/images/I/61nMZHYdXa...</td>\n",
              "      <td>https://m.media-amazon.com/images/I/61nMZHYdXa...</td>\n",
              "      <td>https://m.media-amazon.com/images/I/61nMZHYdXa...</td>\n",
              "      <td>https://m.media-amazon.com/images/I/61nMZHYdXa...</td>\n",
              "      <td>https://m.media-amazon.com/images/I/61nMZHYdXa...</td>\n",
              "      <td>70,499</td>\n",
              "    </tr>\n",
              "    <tr>\n",
              "      <th>11</th>\n",
              "      <td>12</td>\n",
              "      <td>Nillkin Case for Apple iPhone 11 (6.1\" Inch) C...</td>\n",
              "      <td>https://www.amazon.in/Nillkin-iPhone-CamShield...</td>\n",
              "      <td>-</td>\n",
              "      <td>-</td>\n",
              "      <td>https://m.media-amazon.com/images/I/41LGYCsi-s...</td>\n",
              "      <td>https://m.media-amazon.com/images/I/41LGYCsi-s...</td>\n",
              "      <td>https://m.media-amazon.com/images/I/41LGYCsi-s...</td>\n",
              "      <td>https://m.media-amazon.com/images/I/41LGYCsi-s...</td>\n",
              "      <td>https://m.media-amazon.com/images/I/41LGYCsi-s...</td>\n",
              "      <td>1,499</td>\n",
              "    </tr>\n",
              "    <tr>\n",
              "      <th>12</th>\n",
              "      <td>13</td>\n",
              "      <td>Nillkin Case for Apple iPhone 11 Pro Max (6.5\"...</td>\n",
              "      <td>https://www.amazon.in/Nillkin-iPhone-Rubber-Wr...</td>\n",
              "      <td>-</td>\n",
              "      <td>-</td>\n",
              "      <td>https://m.media-amazon.com/images/I/31Xof6gn7p...</td>\n",
              "      <td>https://m.media-amazon.com/images/I/31Xof6gn7p...</td>\n",
              "      <td>https://m.media-amazon.com/images/I/31Xof6gn7p...</td>\n",
              "      <td>https://m.media-amazon.com/images/I/31Xof6gn7p...</td>\n",
              "      <td>https://m.media-amazon.com/images/I/31Xof6gn7p...</td>\n",
              "      <td>1,699</td>\n",
              "    </tr>\n",
              "    <tr>\n",
              "      <th>13</th>\n",
              "      <td>14</td>\n",
              "      <td>Apple iPhone Xs (512GB) - Gold</td>\n",
              "      <td>https://www.amazon.in/Apple-iPhone-Xs-512GB-Go...</td>\n",
              "      <td>4.3 out of 5 stars</td>\n",
              "      <td>331</td>\n",
              "      <td>https://m.media-amazon.com/images/I/61bLMtJcUW...</td>\n",
              "      <td>https://m.media-amazon.com/images/I/61bLMtJcUW...</td>\n",
              "      <td>https://m.media-amazon.com/images/I/61bLMtJcUW...</td>\n",
              "      <td>https://m.media-amazon.com/images/I/61bLMtJcUW...</td>\n",
              "      <td>https://m.media-amazon.com/images/I/61bLMtJcUW...</td>\n",
              "      <td>78,900</td>\n",
              "    </tr>\n",
              "    <tr>\n",
              "      <th>14</th>\n",
              "      <td>15</td>\n",
              "      <td>Apple iPhone 11 (64GB) - Black</td>\n",
              "      <td>https://www.amazon.in/Apple-iPhone-11-64GB-Bla...</td>\n",
              "      <td>4.6 out of 5 stars</td>\n",
              "      <td>2746</td>\n",
              "      <td>https://m.media-amazon.com/images/I/51kGDXeFZK...</td>\n",
              "      <td>https://m.media-amazon.com/images/I/51kGDXeFZK...</td>\n",
              "      <td>https://m.media-amazon.com/images/I/51kGDXeFZK...</td>\n",
              "      <td>https://m.media-amazon.com/images/I/51kGDXeFZK...</td>\n",
              "      <td>https://m.media-amazon.com/images/I/51kGDXeFZK...</td>\n",
              "      <td>-</td>\n",
              "    </tr>\n",
              "    <tr>\n",
              "      <th>15</th>\n",
              "      <td>16</td>\n",
              "      <td>Apple iPhone 11 (64GB) - White</td>\n",
              "      <td>https://www.amazon.in/Apple-iPhone-11-64GB-Whi...</td>\n",
              "      <td>4.6 out of 5 stars</td>\n",
              "      <td>2746</td>\n",
              "      <td>https://m.media-amazon.com/images/I/51o5RmQtro...</td>\n",
              "      <td>https://m.media-amazon.com/images/I/51o5RmQtro...</td>\n",
              "      <td>https://m.media-amazon.com/images/I/51o5RmQtro...</td>\n",
              "      <td>https://m.media-amazon.com/images/I/51o5RmQtro...</td>\n",
              "      <td>https://m.media-amazon.com/images/I/51o5RmQtro...</td>\n",
              "      <td>-</td>\n",
              "    </tr>\n",
              "    <tr>\n",
              "      <th>16</th>\n",
              "      <td>17</td>\n",
              "      <td>Apple iPhone 11 (64GB) - Yellow</td>\n",
              "      <td>https://www.amazon.in/Apple-iPhone-11-64GB-Yel...</td>\n",
              "      <td>4.6 out of 5 stars</td>\n",
              "      <td>2746</td>\n",
              "      <td>https://m.media-amazon.com/images/I/51Sv62vBd+...</td>\n",
              "      <td>https://m.media-amazon.com/images/I/51Sv62vBd+...</td>\n",
              "      <td>https://m.media-amazon.com/images/I/51Sv62vBd+...</td>\n",
              "      <td>https://m.media-amazon.com/images/I/51Sv62vBd+...</td>\n",
              "      <td>https://m.media-amazon.com/images/I/51Sv62vBd+...</td>\n",
              "      <td>-</td>\n",
              "    </tr>\n",
              "    <tr>\n",
              "      <th>17</th>\n",
              "      <td>18</td>\n",
              "      <td>Nillkin Case for Apple iPhone 11 (6.1\" Inch) F...</td>\n",
              "      <td>https://www.amazon.in/Nillkin-iPhone-Liquid-Si...</td>\n",
              "      <td>-</td>\n",
              "      <td>-</td>\n",
              "      <td>https://m.media-amazon.com/images/I/31lBKqIz+V...</td>\n",
              "      <td>https://m.media-amazon.com/images/I/31lBKqIz+V...</td>\n",
              "      <td>https://m.media-amazon.com/images/I/31lBKqIz+V...</td>\n",
              "      <td>https://m.media-amazon.com/images/I/31lBKqIz+V...</td>\n",
              "      <td>https://m.media-amazon.com/images/I/31lBKqIz+V...</td>\n",
              "      <td>1,999</td>\n",
              "    </tr>\n",
              "    <tr>\n",
              "      <th>18</th>\n",
              "      <td>19</td>\n",
              "      <td>OnePlus 7 (Mirror Grey, 6GB RAM, Optic AMOLED ...</td>\n",
              "      <td>https://www.amazon.in/Test-Exclusive-608/dp/B0...</td>\n",
              "      <td>4.5 out of 5 stars</td>\n",
              "      <td>26477</td>\n",
              "      <td>https://m.media-amazon.com/images/I/512xYZ5OjG...</td>\n",
              "      <td>https://m.media-amazon.com/images/I/512xYZ5OjG...</td>\n",
              "      <td>https://m.media-amazon.com/images/I/512xYZ5OjG...</td>\n",
              "      <td>https://m.media-amazon.com/images/I/512xYZ5OjG...</td>\n",
              "      <td>https://m.media-amazon.com/images/I/512xYZ5OjG...</td>\n",
              "      <td>29,999</td>\n",
              "    </tr>\n",
              "  </tbody>\n",
              "</table>\n",
              "</div>"
            ],
            "text/plain": [
              "    SN  ...   Price\n",
              "0    1  ...       -\n",
              "1    2  ...  70,499\n",
              "2    3  ...  47,499\n",
              "3    4  ...  25,499\n",
              "4    5  ...     660\n",
              "5    6  ...  78,900\n",
              "6    7  ...     999\n",
              "7    8  ...       -\n",
              "8    9  ...       -\n",
              "9   10  ...  70,499\n",
              "10  11  ...  70,499\n",
              "11  12  ...   1,499\n",
              "12  13  ...   1,699\n",
              "13  14  ...  78,900\n",
              "14  15  ...       -\n",
              "15  16  ...       -\n",
              "16  17  ...       -\n",
              "17  18  ...   1,999\n",
              "18  19  ...  29,999\n",
              "\n",
              "[19 rows x 11 columns]"
            ]
          },
          "metadata": {
            "tags": []
          }
        }
      ]
    },
    {
      "cell_type": "code",
      "metadata": {
        "id": "ywBhHEEIJZ0G",
        "colab_type": "code",
        "outputId": "f034233f-ebc4-4327-d4cb-7f83588a6637",
        "colab": {
          "base_uri": "https://localhost:8080/",
          "height": 162
        }
      },
      "source": [
        "print(df.size)\n",
        "print(df.shape)\n",
        "print(df.ndim)\n",
        "print(df.columns)"
      ],
      "execution_count": 0,
      "outputs": [
        {
          "output_type": "stream",
          "text": [
            "209\n",
            "(19, 11)\n",
            "2\n",
            "Index(['SN', 'Name', 'Link to item', 'Rating', 'Reviews',\n",
            "       'Image Download link 1x', 'Image Download link 1.5x',\n",
            "       'Image Download link 2x', 'Image Download link 2.5x',\n",
            "       'Image Download link 3x', 'Price'],\n",
            "      dtype='object')\n"
          ],
          "name": "stdout"
        }
      ]
    },
    {
      "cell_type": "code",
      "metadata": {
        "id": "q35rCGEmJsBV",
        "colab_type": "code",
        "outputId": "c0b07850-dc15-49b0-d77c-72cfc49249cd",
        "colab": {
          "base_uri": "https://localhost:8080/",
          "height": 608
        }
      },
      "source": [
        "df.head()"
      ],
      "execution_count": 0,
      "outputs": [
        {
          "output_type": "execute_result",
          "data": {
            "text/html": [
              "<div>\n",
              "<style scoped>\n",
              "    .dataframe tbody tr th:only-of-type {\n",
              "        vertical-align: middle;\n",
              "    }\n",
              "\n",
              "    .dataframe tbody tr th {\n",
              "        vertical-align: top;\n",
              "    }\n",
              "\n",
              "    .dataframe thead th {\n",
              "        text-align: right;\n",
              "    }\n",
              "</style>\n",
              "<table border=\"1\" class=\"dataframe\">\n",
              "  <thead>\n",
              "    <tr style=\"text-align: right;\">\n",
              "      <th></th>\n",
              "      <th>SN</th>\n",
              "      <th>Name</th>\n",
              "      <th>Link to item</th>\n",
              "      <th>Rating</th>\n",
              "      <th>Reviews</th>\n",
              "      <th>Image Download link 1x</th>\n",
              "      <th>Image Download link 1.5x</th>\n",
              "      <th>Image Download link 2x</th>\n",
              "      <th>Image Download link 2.5x</th>\n",
              "      <th>Image Download link 3x</th>\n",
              "      <th>Price</th>\n",
              "    </tr>\n",
              "  </thead>\n",
              "  <tbody>\n",
              "    <tr>\n",
              "      <th>0</th>\n",
              "      <td>1</td>\n",
              "      <td>We are delivering existing pre-paid orders of ...</td>\n",
              "      <td>https://www.amazon.in/b/ref=sxts_snps_0_0_75bd...</td>\n",
              "      <td>-</td>\n",
              "      <td>-</td>\n",
              "      <td>-</td>\n",
              "      <td>-</td>\n",
              "      <td>-</td>\n",
              "      <td>-</td>\n",
              "      <td>-</td>\n",
              "      <td>-</td>\n",
              "    </tr>\n",
              "    <tr>\n",
              "      <th>1</th>\n",
              "      <td>2</td>\n",
              "      <td>Apple iPhone Xs Max (64GB) - Space Grey</td>\n",
              "      <td>https://www.amazon.in/gp/slredirect/picassoRed...</td>\n",
              "      <td>4.4 out of 5 stars</td>\n",
              "      <td>Sponsored</td>\n",
              "      <td>https://m.media-amazon.com/images/I/51ZdmjN52-...</td>\n",
              "      <td>https://m.media-amazon.com/images/I/51ZdmjN52-...</td>\n",
              "      <td>https://m.media-amazon.com/images/I/51ZdmjN52-...</td>\n",
              "      <td>https://m.media-amazon.com/images/I/51ZdmjN52-...</td>\n",
              "      <td>https://m.media-amazon.com/images/I/51ZdmjN52-...</td>\n",
              "      <td>70,499</td>\n",
              "    </tr>\n",
              "    <tr>\n",
              "      <th>2</th>\n",
              "      <td>3</td>\n",
              "      <td>Apple iPhone 8 Plus (256GB) - Gold</td>\n",
              "      <td>https://www.amazon.in/gp/slredirect/picassoRed...</td>\n",
              "      <td>4.5 out of 5 stars</td>\n",
              "      <td>Sponsored</td>\n",
              "      <td>https://m.media-amazon.com/images/I/51WMaE0DPi...</td>\n",
              "      <td>https://m.media-amazon.com/images/I/51WMaE0DPi...</td>\n",
              "      <td>https://m.media-amazon.com/images/I/51WMaE0DPi...</td>\n",
              "      <td>https://m.media-amazon.com/images/I/51WMaE0DPi...</td>\n",
              "      <td>https://m.media-amazon.com/images/I/51WMaE0DPi...</td>\n",
              "      <td>47,499</td>\n",
              "    </tr>\n",
              "    <tr>\n",
              "      <th>3</th>\n",
              "      <td>4</td>\n",
              "      <td>Apple iPhone 6s (32GB) - Space Grey</td>\n",
              "      <td>https://www.amazon.in/Apple-iPhone-6S-Space-St...</td>\n",
              "      <td>4.1 out of 5 stars</td>\n",
              "      <td>6915</td>\n",
              "      <td>https://m.media-amazon.com/images/I/516jNlSnB-...</td>\n",
              "      <td>https://m.media-amazon.com/images/I/516jNlSnB-...</td>\n",
              "      <td>https://m.media-amazon.com/images/I/516jNlSnB-...</td>\n",
              "      <td>https://m.media-amazon.com/images/I/516jNlSnB-...</td>\n",
              "      <td>https://m.media-amazon.com/images/I/516jNlSnB-...</td>\n",
              "      <td>25,499</td>\n",
              "    </tr>\n",
              "    <tr>\n",
              "      <th>4</th>\n",
              "      <td>5</td>\n",
              "      <td>Nillkin Case for Apple iPhone 11 Pro Max (6.5\"...</td>\n",
              "      <td>https://www.amazon.in/Nillkin-Apple-iPhone-Sup...</td>\n",
              "      <td>-</td>\n",
              "      <td>-</td>\n",
              "      <td>https://m.media-amazon.com/images/I/41NBfDUYwk...</td>\n",
              "      <td>https://m.media-amazon.com/images/I/41NBfDUYwk...</td>\n",
              "      <td>https://m.media-amazon.com/images/I/41NBfDUYwk...</td>\n",
              "      <td>https://m.media-amazon.com/images/I/41NBfDUYwk...</td>\n",
              "      <td>https://m.media-amazon.com/images/I/41NBfDUYwk...</td>\n",
              "      <td>660</td>\n",
              "    </tr>\n",
              "  </tbody>\n",
              "</table>\n",
              "</div>"
            ],
            "text/plain": [
              "   SN  ...   Price\n",
              "0   1  ...       -\n",
              "1   2  ...  70,499\n",
              "2   3  ...  47,499\n",
              "3   4  ...  25,499\n",
              "4   5  ...     660\n",
              "\n",
              "[5 rows x 11 columns]"
            ]
          },
          "metadata": {
            "tags": []
          },
          "execution_count": 24
        }
      ]
    },
    {
      "cell_type": "code",
      "metadata": {
        "id": "FWf9KmPkKIML",
        "colab_type": "code",
        "outputId": "92c95214-5e6a-465e-98a4-78c7b12c1f29",
        "colab": {
          "base_uri": "https://localhost:8080/",
          "height": 427
        }
      },
      "source": [
        "df.tail(2)"
      ],
      "execution_count": 0,
      "outputs": [
        {
          "output_type": "execute_result",
          "data": {
            "text/html": [
              "<div>\n",
              "<style scoped>\n",
              "    .dataframe tbody tr th:only-of-type {\n",
              "        vertical-align: middle;\n",
              "    }\n",
              "\n",
              "    .dataframe tbody tr th {\n",
              "        vertical-align: top;\n",
              "    }\n",
              "\n",
              "    .dataframe thead th {\n",
              "        text-align: right;\n",
              "    }\n",
              "</style>\n",
              "<table border=\"1\" class=\"dataframe\">\n",
              "  <thead>\n",
              "    <tr style=\"text-align: right;\">\n",
              "      <th></th>\n",
              "      <th>SN</th>\n",
              "      <th>Name</th>\n",
              "      <th>Link to item</th>\n",
              "      <th>Rating</th>\n",
              "      <th>Reviews</th>\n",
              "      <th>Image Download link 1x</th>\n",
              "      <th>Image Download link 1.5x</th>\n",
              "      <th>Image Download link 2x</th>\n",
              "      <th>Image Download link 2.5x</th>\n",
              "      <th>Image Download link 3x</th>\n",
              "      <th>Price</th>\n",
              "    </tr>\n",
              "  </thead>\n",
              "  <tbody>\n",
              "    <tr>\n",
              "      <th>17</th>\n",
              "      <td>18</td>\n",
              "      <td>Nillkin Case for Apple iPhone 11 (6.1\" Inch) F...</td>\n",
              "      <td>https://www.amazon.in/Nillkin-iPhone-Liquid-Si...</td>\n",
              "      <td>-</td>\n",
              "      <td>-</td>\n",
              "      <td>https://m.media-amazon.com/images/I/31lBKqIz+V...</td>\n",
              "      <td>https://m.media-amazon.com/images/I/31lBKqIz+V...</td>\n",
              "      <td>https://m.media-amazon.com/images/I/31lBKqIz+V...</td>\n",
              "      <td>https://m.media-amazon.com/images/I/31lBKqIz+V...</td>\n",
              "      <td>https://m.media-amazon.com/images/I/31lBKqIz+V...</td>\n",
              "      <td>1,999</td>\n",
              "    </tr>\n",
              "    <tr>\n",
              "      <th>18</th>\n",
              "      <td>19</td>\n",
              "      <td>OnePlus 7 (Mirror Grey, 6GB RAM, Optic AMOLED ...</td>\n",
              "      <td>https://www.amazon.in/Test-Exclusive-608/dp/B0...</td>\n",
              "      <td>4.5 out of 5 stars</td>\n",
              "      <td>26477</td>\n",
              "      <td>https://m.media-amazon.com/images/I/512xYZ5OjG...</td>\n",
              "      <td>https://m.media-amazon.com/images/I/512xYZ5OjG...</td>\n",
              "      <td>https://m.media-amazon.com/images/I/512xYZ5OjG...</td>\n",
              "      <td>https://m.media-amazon.com/images/I/512xYZ5OjG...</td>\n",
              "      <td>https://m.media-amazon.com/images/I/512xYZ5OjG...</td>\n",
              "      <td>29,999</td>\n",
              "    </tr>\n",
              "  </tbody>\n",
              "</table>\n",
              "</div>"
            ],
            "text/plain": [
              "    SN  ...   Price\n",
              "17  18  ...   1,999\n",
              "18  19  ...  29,999\n",
              "\n",
              "[2 rows x 11 columns]"
            ]
          },
          "metadata": {
            "tags": []
          },
          "execution_count": 25
        }
      ]
    },
    {
      "cell_type": "code",
      "metadata": {
        "id": "U7sUE1g4KK4x",
        "colab_type": "code",
        "outputId": "f3664dcd-7654-4b74-c396-feb6c054956d",
        "colab": {
          "base_uri": "https://localhost:8080/",
          "height": 344
        }
      },
      "source": [
        "df.info()"
      ],
      "execution_count": 0,
      "outputs": [
        {
          "output_type": "stream",
          "text": [
            "<class 'pandas.core.frame.DataFrame'>\n",
            "RangeIndex: 19 entries, 0 to 18\n",
            "Data columns (total 11 columns):\n",
            " #   Column                    Non-Null Count  Dtype \n",
            "---  ------                    --------------  ----- \n",
            " 0   SN                        19 non-null     int64 \n",
            " 1   Name                      19 non-null     object\n",
            " 2   Link to item              19 non-null     object\n",
            " 3   Rating                    19 non-null     object\n",
            " 4   Reviews                   19 non-null     object\n",
            " 5   Image Download link 1x    19 non-null     object\n",
            " 6   Image Download link 1.5x  19 non-null     object\n",
            " 7   Image Download link 2x    19 non-null     object\n",
            " 8   Image Download link 2.5x  19 non-null     object\n",
            " 9   Image Download link 3x    19 non-null     object\n",
            " 10  Price                     19 non-null     object\n",
            "dtypes: int64(1), object(10)\n",
            "memory usage: 1.8+ KB\n"
          ],
          "name": "stdout"
        }
      ]
    },
    {
      "cell_type": "code",
      "metadata": {
        "id": "AUuQh3g2Kbw_",
        "colab_type": "code",
        "outputId": "cab0f812-ca46-4269-a1a4-e3bc1fc1b513",
        "colab": {
          "base_uri": "https://localhost:8080/",
          "height": 574
        }
      },
      "source": [
        "new_df = df.rename(columns = {\n",
        "    'SN':'Serial Number',\n",
        "    'Name': 'Product Name'\n",
        "})\n",
        "\n",
        "display(new_df.head(2))\n",
        "display(df.head(2))"
      ],
      "execution_count": 0,
      "outputs": [
        {
          "output_type": "display_data",
          "data": {
            "text/html": [
              "<div>\n",
              "<style scoped>\n",
              "    .dataframe tbody tr th:only-of-type {\n",
              "        vertical-align: middle;\n",
              "    }\n",
              "\n",
              "    .dataframe tbody tr th {\n",
              "        vertical-align: top;\n",
              "    }\n",
              "\n",
              "    .dataframe thead th {\n",
              "        text-align: right;\n",
              "    }\n",
              "</style>\n",
              "<table border=\"1\" class=\"dataframe\">\n",
              "  <thead>\n",
              "    <tr style=\"text-align: right;\">\n",
              "      <th></th>\n",
              "      <th>Serial Number</th>\n",
              "      <th>Product Name</th>\n",
              "      <th>Link to item</th>\n",
              "      <th>Rating</th>\n",
              "      <th>Reviews</th>\n",
              "      <th>Image Download link 1x</th>\n",
              "      <th>Image Download link 1.5x</th>\n",
              "      <th>Image Download link 2x</th>\n",
              "      <th>Image Download link 2.5x</th>\n",
              "      <th>Image Download link 3x</th>\n",
              "      <th>Price</th>\n",
              "    </tr>\n",
              "  </thead>\n",
              "  <tbody>\n",
              "    <tr>\n",
              "      <th>0</th>\n",
              "      <td>1</td>\n",
              "      <td>We are delivering existing pre-paid orders of ...</td>\n",
              "      <td>https://www.amazon.in/b/ref=sxts_snps_0_0_75bd...</td>\n",
              "      <td>-</td>\n",
              "      <td>-</td>\n",
              "      <td>-</td>\n",
              "      <td>-</td>\n",
              "      <td>-</td>\n",
              "      <td>-</td>\n",
              "      <td>-</td>\n",
              "      <td>-</td>\n",
              "    </tr>\n",
              "    <tr>\n",
              "      <th>1</th>\n",
              "      <td>2</td>\n",
              "      <td>Apple iPhone Xs Max (64GB) - Space Grey</td>\n",
              "      <td>https://www.amazon.in/gp/slredirect/picassoRed...</td>\n",
              "      <td>4.4 out of 5 stars</td>\n",
              "      <td>Sponsored</td>\n",
              "      <td>https://m.media-amazon.com/images/I/51ZdmjN52-...</td>\n",
              "      <td>https://m.media-amazon.com/images/I/51ZdmjN52-...</td>\n",
              "      <td>https://m.media-amazon.com/images/I/51ZdmjN52-...</td>\n",
              "      <td>https://m.media-amazon.com/images/I/51ZdmjN52-...</td>\n",
              "      <td>https://m.media-amazon.com/images/I/51ZdmjN52-...</td>\n",
              "      <td>70,499</td>\n",
              "    </tr>\n",
              "  </tbody>\n",
              "</table>\n",
              "</div>"
            ],
            "text/plain": [
              "   Serial Number  ...   Price\n",
              "0              1  ...       -\n",
              "1              2  ...  70,499\n",
              "\n",
              "[2 rows x 11 columns]"
            ]
          },
          "metadata": {
            "tags": []
          }
        },
        {
          "output_type": "display_data",
          "data": {
            "text/html": [
              "<div>\n",
              "<style scoped>\n",
              "    .dataframe tbody tr th:only-of-type {\n",
              "        vertical-align: middle;\n",
              "    }\n",
              "\n",
              "    .dataframe tbody tr th {\n",
              "        vertical-align: top;\n",
              "    }\n",
              "\n",
              "    .dataframe thead th {\n",
              "        text-align: right;\n",
              "    }\n",
              "</style>\n",
              "<table border=\"1\" class=\"dataframe\">\n",
              "  <thead>\n",
              "    <tr style=\"text-align: right;\">\n",
              "      <th></th>\n",
              "      <th>SN</th>\n",
              "      <th>Name</th>\n",
              "      <th>Link to item</th>\n",
              "      <th>Rating</th>\n",
              "      <th>Reviews</th>\n",
              "      <th>Image Download link 1x</th>\n",
              "      <th>Image Download link 1.5x</th>\n",
              "      <th>Image Download link 2x</th>\n",
              "      <th>Image Download link 2.5x</th>\n",
              "      <th>Image Download link 3x</th>\n",
              "      <th>Price</th>\n",
              "    </tr>\n",
              "  </thead>\n",
              "  <tbody>\n",
              "    <tr>\n",
              "      <th>0</th>\n",
              "      <td>1</td>\n",
              "      <td>We are delivering existing pre-paid orders of ...</td>\n",
              "      <td>https://www.amazon.in/b/ref=sxts_snps_0_0_75bd...</td>\n",
              "      <td>-</td>\n",
              "      <td>-</td>\n",
              "      <td>-</td>\n",
              "      <td>-</td>\n",
              "      <td>-</td>\n",
              "      <td>-</td>\n",
              "      <td>-</td>\n",
              "      <td>-</td>\n",
              "    </tr>\n",
              "    <tr>\n",
              "      <th>1</th>\n",
              "      <td>2</td>\n",
              "      <td>Apple iPhone Xs Max (64GB) - Space Grey</td>\n",
              "      <td>https://www.amazon.in/gp/slredirect/picassoRed...</td>\n",
              "      <td>4.4 out of 5 stars</td>\n",
              "      <td>Sponsored</td>\n",
              "      <td>https://m.media-amazon.com/images/I/51ZdmjN52-...</td>\n",
              "      <td>https://m.media-amazon.com/images/I/51ZdmjN52-...</td>\n",
              "      <td>https://m.media-amazon.com/images/I/51ZdmjN52-...</td>\n",
              "      <td>https://m.media-amazon.com/images/I/51ZdmjN52-...</td>\n",
              "      <td>https://m.media-amazon.com/images/I/51ZdmjN52-...</td>\n",
              "      <td>70,499</td>\n",
              "    </tr>\n",
              "  </tbody>\n",
              "</table>\n",
              "</div>"
            ],
            "text/plain": [
              "   SN  ...   Price\n",
              "0   1  ...       -\n",
              "1   2  ...  70,499\n",
              "\n",
              "[2 rows x 11 columns]"
            ]
          },
          "metadata": {
            "tags": []
          }
        }
      ]
    },
    {
      "cell_type": "code",
      "metadata": {
        "id": "fbSO6N7YKyzT",
        "colab_type": "code",
        "outputId": "2e999709-5d11-4bd7-e060-1e6c79d7595e",
        "colab": {
          "base_uri": "https://localhost:8080/",
          "height": 235
        }
      },
      "source": [
        "# Droping Null Values\n",
        "df.isnull().sum()\n",
        "# df.dropna()"
      ],
      "execution_count": 0,
      "outputs": [
        {
          "output_type": "execute_result",
          "data": {
            "text/plain": [
              "SN                          0\n",
              "Name                        0\n",
              "Link to item                0\n",
              "Rating                      0\n",
              "Reviews                     0\n",
              "Image Download link 1x      0\n",
              "Image Download link 1.5x    0\n",
              "Image Download link 2x      0\n",
              "Image Download link 2.5x    0\n",
              "Image Download link 3x      0\n",
              "Price                       0\n",
              "dtype: int64"
            ]
          },
          "metadata": {
            "tags": []
          },
          "execution_count": 36
        }
      ]
    },
    {
      "cell_type": "code",
      "metadata": {
        "id": "Hjr8AjbqLVeM",
        "colab_type": "code",
        "outputId": "1c4cd6fb-e1b0-437a-b4db-f84b5213e897",
        "colab": {
          "base_uri": "https://localhost:8080/",
          "height": 181
        }
      },
      "source": [
        "# Describing the Data Frame\n",
        "print(df.describe())"
      ],
      "execution_count": 0,
      "outputs": [
        {
          "output_type": "stream",
          "text": [
            "              SN\n",
            "count  19.000000\n",
            "mean   10.000000\n",
            "std     5.627314\n",
            "min     1.000000\n",
            "25%     5.500000\n",
            "50%    10.000000\n",
            "75%    14.500000\n",
            "max    19.000000\n"
          ],
          "name": "stdout"
        }
      ]
    },
    {
      "cell_type": "code",
      "metadata": {
        "id": "tbEQ8-qmLjCq",
        "colab_type": "code",
        "outputId": "ac1ada82-80fc-46a2-cebd-7aaa7c69be8a",
        "colab": {
          "base_uri": "https://localhost:8080/",
          "height": 380
        }
      },
      "source": [
        "# df.SN.describe()\n",
        "df.SN.value_counts()"
      ],
      "execution_count": 0,
      "outputs": [
        {
          "output_type": "execute_result",
          "data": {
            "text/plain": [
              "19    1\n",
              "9     1\n",
              "2     1\n",
              "3     1\n",
              "4     1\n",
              "5     1\n",
              "6     1\n",
              "7     1\n",
              "8     1\n",
              "10    1\n",
              "18    1\n",
              "11    1\n",
              "12    1\n",
              "13    1\n",
              "14    1\n",
              "15    1\n",
              "16    1\n",
              "17    1\n",
              "1     1\n",
              "Name: SN, dtype: int64"
            ]
          },
          "metadata": {
            "tags": []
          },
          "execution_count": 39
        }
      ]
    },
    {
      "cell_type": "code",
      "metadata": {
        "id": "JHfNwhcwLyhZ",
        "colab_type": "code",
        "outputId": "279b126c-ca1d-4147-d139-04b46bff0d1e",
        "colab": {
          "base_uri": "https://localhost:8080/",
          "height": 217
        }
      },
      "source": [
        "print(df.groupby('Reviews').size())"
      ],
      "execution_count": 0,
      "outputs": [
        {
          "output_type": "stream",
          "text": [
            "Reviews\n",
            "-            6\n",
            "26477        1\n",
            "2746         3\n",
            "290          2\n",
            "3            1\n",
            "331          2\n",
            "378          1\n",
            "6915         1\n",
            "Sponsored    2\n",
            "dtype: int64\n"
          ],
          "name": "stdout"
        }
      ]
    },
    {
      "cell_type": "markdown",
      "metadata": {
        "id": "insFTkTqMFgA",
        "colab_type": "text"
      },
      "source": [
        "## Data Visualization\n",
        "  - Pictorial Representation of Data\n"
      ]
    },
    {
      "cell_type": "code",
      "metadata": {
        "id": "IGRSVQFrMMpO",
        "colab_type": "code",
        "colab": {}
      },
      "source": [
        "import matplotlib.pyplot as plt"
      ],
      "execution_count": 0,
      "outputs": []
    },
    {
      "cell_type": "code",
      "metadata": {
        "id": "g8pv2qeMMVmM",
        "colab_type": "code",
        "outputId": "c9aa3597-a8e4-4245-ade1-d905817efd9e",
        "colab": {
          "base_uri": "https://localhost:8080/",
          "height": 326
        }
      },
      "source": [
        "df['Reviews'].value_counts().plot.bar()"
      ],
      "execution_count": 0,
      "outputs": [
        {
          "output_type": "execute_result",
          "data": {
            "text/plain": [
              "<matplotlib.axes._subplots.AxesSubplot at 0x7fb505f785c0>"
            ]
          },
          "metadata": {
            "tags": []
          },
          "execution_count": 45
        },
        {
          "output_type": "display_data",
          "data": {
            "image/png": "[encoded data removed]",
            "text/plain": [
              "<Figure size 432x288 with 1 Axes>"
            ]
          },
          "metadata": {
            "tags": [],
            "needs_background": "light"
          }
        }
      ]
    },
    {
      "cell_type": "code",
      "metadata": {
        "id": "28PbvnjnMjxs",
        "colab_type": "code",
        "outputId": "d8c22e44-5228-4981-fcdb-ff58474d2cd7",
        "colab": {
          "base_uri": "https://localhost:8080/",
          "height": 283
        }
      },
      "source": [
        "df['Reviews'].value_counts().sort_index().plot.line()"
      ],
      "execution_count": 0,
      "outputs": [
        {
          "output_type": "execute_result",
          "data": {
            "text/plain": [
              "<matplotlib.axes._subplots.AxesSubplot at 0x7fb50594c198>"
            ]
          },
          "metadata": {
            "tags": []
          },
          "execution_count": 48
        },
        {
          "output_type": "display_data",
          "data": {
            "image/png": "[encoded data removed]",
            "text/plain": [
              "<Figure size 432x288 with 1 Axes>"
            ]
          },
          "metadata": {
            "tags": [],
            "needs_background": "light"
          }
        }
      ]
    },
    {
      "cell_type": "code",
      "metadata": {
        "id": "vxo0URJrMz8O",
        "colab_type": "code",
        "outputId": "f19b057a-55ae-4cc3-80e7-f560f3eb8e82",
        "colab": {
          "base_uri": "https://localhost:8080/",
          "height": 283
        }
      },
      "source": [
        "df['Reviews'].value_counts().plot.area()"
      ],
      "execution_count": 0,
      "outputs": [
        {
          "output_type": "execute_result",
          "data": {
            "text/plain": [
              "<matplotlib.axes._subplots.AxesSubplot at 0x7fb5058b5dd8>"
            ]
          },
          "metadata": {
            "tags": []
          },
          "execution_count": 49
        },
        {
          "output_type": "display_data",
          "data": {
            "image/png": "[encoded data removed]",
            "text/plain": [
              "<Figure size 432x288 with 1 Axes>"
            ]
          },
          "metadata": {
            "tags": [],
            "needs_background": "light"
          }
        }
      ]
    },
    {
      "cell_type": "code",
      "metadata": {
        "id": "6xFEpqmmNCcZ",
        "colab_type": "code",
        "outputId": "7209af76-4399-4551-e75b-3ac0d83db4fa",
        "colab": {
          "base_uri": "https://localhost:8080/",
          "height": 283
        }
      },
      "source": [
        "df['Reviews'].value_counts().plot.hist()\n",
        "# Frequency of Occurance"
      ],
      "execution_count": 0,
      "outputs": [
        {
          "output_type": "execute_result",
          "data": {
            "text/plain": [
              "<matplotlib.axes._subplots.AxesSubplot at 0x7fb504614080>"
            ]
          },
          "metadata": {
            "tags": []
          },
          "execution_count": 50
        },
        {
          "output_type": "display_data",
          "data": {
            "image/png": "[encoded data removed]",
            "text/plain": [
              "<Figure size 432x288 with 1 Axes>"
            ]
          },
          "metadata": {
            "tags": [],
            "needs_background": "light"
          }
        }
      ]
    },
    {
      "cell_type": "code",
      "metadata": {
        "id": "pP8q_rCgNL9p",
        "colab_type": "code",
        "outputId": "6079eca6-0291-4122-e136-082974e08c62",
        "colab": {
          "base_uri": "https://localhost:8080/",
          "height": 192
        }
      },
      "source": [
        "plt.scatter(df['Reviews'], df['Name'])\n",
        "plt.title('IPhone11 Data Analysis')\n",
        "plt.xlabel('Reviews')\n",
        "plt.ylabel('Name')\n",
        "plt.grid(True)\n",
        "plt.show()"
      ],
      "execution_count": 0,
      "outputs": [
        {
          "output_type": "display_data",
          "data": {
            "image/png": "[encoded data removed]",
            "text/plain": [
              "<Figure size 432x288 with 1 Axes>"
            ]
          },
          "metadata": {
            "tags": [],
            "needs_background": "light"
          }
        }
      ]
    },
    {
      "cell_type": "code",
      "metadata": {
        "id": "l4tQv69DOEMo",
        "colab_type": "code",
        "colab": {}
      },
      "source": [
        "# plt.hexbin(df['Reviews'], df['Name'])\n",
        "# plt.title('IPhone11 Data Analysis')\n",
        "# plt.xlabel('Reviews')\n",
        "# plt.ylabel('Name')\n",
        "# plt.grid(True)\n",
        "# plt.show()"
      ],
      "execution_count": 0,
      "outputs": []
    },
    {
      "cell_type": "code",
      "metadata": {
        "id": "ywBnuv3MOOZV",
        "colab_type": "code",
        "colab": {}
      },
      "source": [
        "# data = pd.read_csv('url to heart.csv', sep=',')\n",
        "# gender_data = data.groupby('age')\n",
        "# gender_data.boxplot(column['age'], by=['chol'])\n",
        "\n",
        "# axes = plt.gca()\n",
        "# axes.set_ylim([0, 800])\n",
        "# pl.show()"
      ],
      "execution_count": 0,
      "outputs": []
    },
    {
      "cell_type": "code",
      "metadata": {
        "id": "82zeYO0HPThI",
        "colab_type": "code",
        "colab": {}
      },
      "source": [
        "# Correlation Plot"
      ],
      "execution_count": 0,
      "outputs": []
    }
  ]
}